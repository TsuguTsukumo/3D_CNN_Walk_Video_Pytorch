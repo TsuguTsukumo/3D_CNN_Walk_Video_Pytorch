{
 "cells": [
  {
   "cell_type": "code",
   "execution_count": 2,
   "metadata": {},
   "outputs": [
    {
     "name": "stdout",
     "output_type": "stream",
     "text": [
      "aabbcc\n"
     ]
    }
   ],
   "source": [
    "a = \"aa\"\n",
    "b = \"bb\"\n",
    "print(a+b+'cc')"
   ]
  },
  {
   "cell_type": "code",
   "execution_count": 2,
   "metadata": {},
   "outputs": [
    {
     "name": "stdout",
     "output_type": "stream",
     "text": [
      "/workspace/project/misc\n"
     ]
    }
   ],
   "source": [
    "import sys\n",
    "import os \n",
    "print(os.getcwd())\n",
    "os.environ['CUDA_VISIBLE_DEVICES'] = \"1\"\n",
    "sys.path.append('..')\n",
    "\n",
    "import torch \n"
   ]
  },
  {
   "cell_type": "code",
   "execution_count": 3,
   "metadata": {},
   "outputs": [],
   "source": [
    "print(os.getcwd())\n",
    "from models.pytorchvideo_models import WalkVideoClassificationLightningModule\n",
    "from dataloader.data_loader import WalkDataModule\n",
    "\n",
    "from pytorch_lightning import Trainer\n",
    "\n",
    "from IPython.display import clear_output\n",
    "\n",
    "clear_output()\n",
    "\n",
    "import torchmetrics"
   ]
  },
  {
   "cell_type": "code",
   "execution_count": 4,
   "metadata": {},
   "outputs": [
    {
     "name": "stderr",
     "output_type": "stream",
     "text": [
      "Global seed set to 42\n"
     ]
    },
    {
     "data": {
      "text/plain": [
       "42"
      ]
     },
     "execution_count": 4,
     "metadata": {},
     "output_type": "execute_result"
    }
   ],
   "source": [
    "from pytorch_lightning import seed_everything\n",
    "\n",
    "seed_everything(42, workers=True)"
   ]
  },
  {
   "cell_type": "code",
   "execution_count": 5,
   "metadata": {},
   "outputs": [],
   "source": [
    "from parameters import get_parameters\n",
    "\n",
    "VIDEO_LENGTH = ['1', '2', '3']\n",
    "VIDEO_FRAME = ['8', '16', '32']\n",
    "\n",
    "opt, _ = get_parameters()\n",
    "opt.num_workers = 4\n",
    "opt.batch_size = 8\n",
    "opt.gpu_num = 1\n",
    "\n",
    "opt.version = '1201_1_16'\n",
    "opt.model = \"resnet\"\n",
    "opt.model_depth = 50\n",
    "opt.model_class_num = 1\n",
    "\n",
    "# opt.clip_duration = 2\n",
    "# opt.uniform_temporal_subsample_num = 30\n",
    "opt.version = opt.version + '_' + opt.model + '_depth' + str(opt.model_depth)\n",
    "\n",
    "opt.fusion_method = 'slow_fusion'\n",
    "opt.fix_layer = 'all'\n",
    "# opt.train_path = '/workspace/data/split_pad_dataset_512/fold3/'\n",
    "\n",
    "opt.transfor_learning = True\n",
    "opt.pre_process_flag = True\n",
    "\n",
    "DATA_PATH = opt.split_pad_data_path"
   ]
  },
  {
   "cell_type": "code",
   "execution_count": 6,
   "metadata": {},
   "outputs": [
    {
     "name": "stdout",
     "output_type": "stream",
     "text": [
      "##################################################\n",
      "the data path: /workspace/data/split_pad_dataset_512/cord_test\n",
      "ckpt: /workspace/project/logs/resnet/1119_1_8_resnet_depth50/flod2/checkpoints/epoch=11-val_loss=0.63-val_acc=0.8926.ckpt\n"
     ]
    },
    {
     "name": "stderr",
     "output_type": "stream",
     "text": [
      "Using cache found in /root/.cache/torch/hub/facebookresearch_pytorchvideo_main\n",
      "Lightning automatically upgraded your loaded checkpoint from v1.8.1 to v1.9.5. To apply the upgrade to your files permanently, run `python -m pytorch_lightning.utilities.upgrade_checkpoint --file ../logs/resnet/1119_1_8_resnet_depth50/flod2/checkpoints/epoch=11-val_loss=0.63-val_acc=0.8926.ckpt`\n",
      "Using cache found in /root/.cache/torch/hub/facebookresearch_pytorchvideo_main\n"
     ]
    },
    {
     "name": "stdout",
     "output_type": "stream",
     "text": [
      "##################################################\n",
      "run pre process model! /workspace/data/split_pad_dataset_512/cord_test\n",
      "##################################################\n"
     ]
    }
   ],
   "source": [
    "opt.train_path = os.path.join(DATA_PATH, 'cord_test')\n",
    "\n",
    "opt.clip_duration = int(1)\n",
    "opt.uniform_temporal_subsample_num = int(8)\n",
    "\n",
    "ckpt_path = '/workspace/project/logs/resnet/1119_1_8_resnet_depth50/flod2/checkpoints/epoch=11-val_loss=0.63-val_acc=0.8926.ckpt'\n",
    "\n",
    "print('#' * 50)\n",
    "print('the data path: %s' % opt.train_path)\n",
    "print('ckpt: %s' % ckpt_path)\n",
    "model = WalkVideoClassificationLightningModule(opt).load_from_checkpoint(ckpt_path)\n",
    "\n",
    "data_module = WalkDataModule(opt)\n",
    "data_module.setup()\n",
    "test_data = data_module.val_dataloader()"
   ]
  },
  {
   "cell_type": "code",
   "execution_count": 7,
   "metadata": {},
   "outputs": [],
   "source": [
    "import numpy as np \n",
    "\n",
    "\n",
    "\n",
    "from matplotlib.colors import LinearSegmentedColormap\n",
    "\n",
    "import torchvision\n",
    "from torchvision import models\n",
    "from torchvision import transforms\n",
    "\n",
    "from captum.attr import visualization as viz"
   ]
  },
  {
   "attachments": {},
   "cell_type": "markdown",
   "metadata": {},
   "source": [
    "# Grad CAM pytorch\n",
    "use pytorch_grad_cam api to make visilization."
   ]
  },
  {
   "cell_type": "code",
   "execution_count": 8,
   "metadata": {},
   "outputs": [
    {
     "name": "stdout",
     "output_type": "stream",
     "text": [
      "video_path: 20171211_full_lat_49.mp4\n",
      "label: tensor([0, 0, 0, 0, 0, 0, 1, 1])\n"
     ]
    },
    {
     "data": {
      "text/plain": [
       "(torch.Size([8, 3, 8, 224, 224]),\n",
       " torch.Size([8]),\n",
       " torch.Size([1, 3, 8, 224, 224]),\n",
       " tensor(0))"
      ]
     },
     "execution_count": 8,
     "metadata": {},
     "output_type": "execute_result"
    }
   ],
   "source": [
    "#   {\n",
    "#      'video': <video_tensor>,     # Shape: (C, T, H, W)\n",
    "#      'audio': <audio_tensor>,     # Shape: (S)\n",
    "#      'label': <action_label>,     # Integer defining class annotation\n",
    "#      'video_name': <video_path>,  # Video file path stem\n",
    "#      'video_index': <video_id>,   # index of video used by sampler\n",
    "#      'clip_index': <clip_id>      # index of clip sampled within video\n",
    "#   }\n",
    "batch = next(iter(test_data))\n",
    "video = batch['video'].detach() # b, c, t, h, w\n",
    "label = batch['label'].detach() # b, class num\n",
    "print(\"video_path:\", batch['video_name'][0])\n",
    "print(\"label:\", batch['label'])\n",
    "\n",
    "\n",
    "i=0\n",
    "input_tensor = video[i].unsqueeze(dim=0).cuda()\n",
    "inp_label = label[i]\n",
    "\n",
    "video.shape, label.shape, input_tensor.shape, inp_label"
   ]
  },
  {
   "cell_type": "code",
   "execution_count": 9,
   "metadata": {},
   "outputs": [
    {
     "name": "stdout",
     "output_type": "stream",
     "text": [
      "tensor([[0],\n",
      "        [0],\n",
      "        [0],\n",
      "        [0],\n",
      "        [0],\n",
      "        [0],\n",
      "        [1],\n",
      "        [1]])\n",
      "tensor([0])\n"
     ]
    },
    {
     "data": {
      "text/plain": [
       "(numpy.ndarray, (1, 8, 224, 224))"
      ]
     },
     "execution_count": 9,
     "metadata": {},
     "output_type": "execute_result"
    }
   ],
   "source": [
    "from pytorch_grad_cam import GradCAM, HiResCAM, FullGrad, GradCAMPlusPlus, AblationCAM, ScoreCAM, LayerCAM\n",
    "from pytorch_grad_cam.utils.model_targets import ClassifierOutputTarget\n",
    "from pytorch_grad_cam.utils.image import show_cam_on_image\n",
    "\n",
    "# guided grad cam method\n",
    "target_layer = [model.model.blocks[-2].res_blocks[-1]]\n",
    "# target_layer = [ model.model.blocks[-2]]\n",
    "\n",
    "cam = LayerCAM(model, target_layer)\n",
    "y_hat = model.model(video)\n",
    "y_hat_sigmoid = torch.sigmoid(y_hat)\n",
    "pred_labels = torch.where(y_hat_sigmoid >= 0.5, torch.tensor(1), torch.tensor(0))\n",
    "print(pred_labels)\n",
    "out_label = pred_labels[0]\n",
    "print(out_label)\n",
    "\n",
    "targets = [ClassifierOutputTarget(-1)]\n",
    "\n",
    "grayscale_cam = cam(input_tensor, aug_smooth=True, eigen_smooth=True)\n",
    "\n",
    "type(grayscale_cam), grayscale_cam.shape"
   ]
  },
  {
   "cell_type": "code",
   "execution_count": 50,
   "metadata": {},
   "outputs": [
    {
     "data": {
      "text/plain": [
       "((224, 224, 3), numpy.ndarray, (1, 8, 224, 224))"
      ]
     },
     "execution_count": 50,
     "metadata": {},
     "output_type": "execute_result"
    }
   ],
   "source": [
    "inp_tensor = input_tensor.squeeze().permute(1,2,3,0)[2].cpu().detach().numpy()\n",
    "inp_tensor.shape, type(inp_tensor), grayscale_cam.shape"
   ]
  },
  {
   "cell_type": "code",
   "execution_count": 36,
   "metadata": {},
   "outputs": [
    {
     "data": {
      "text/plain": [
       "((224, 224, 1), numpy.ndarray)"
      ]
     },
     "execution_count": 36,
     "metadata": {},
     "output_type": "execute_result"
    }
   ],
   "source": [
    "cam_map = grayscale_cam.mean(axis=1).squeeze()\n",
    "# cam_map = grayscale_cam[:,:,:,0].squeeze()\n",
    "cam_map = np.expand_dims(cam_map, 2)\n",
    "\n",
    "cam_map.shape, type(cam_map)"
   ]
  },
  {
   "cell_type": "code",
   "execution_count": 37,
   "metadata": {},
   "outputs": [
    {
     "data": {
      "text/plain": [
       "<matplotlib.image.AxesImage at 0x7f56edf58f10>"
      ]
     },
     "execution_count": 37,
     "metadata": {},
     "output_type": "execute_result"
    },
    {
     "data": {
      "image/png": "[encoded data removed]",
      "text/plain": [
       "<Figure size 640x480 with 1 Axes>"
      ]
     },
     "metadata": {},
     "output_type": "display_data"
    }
   ],
   "source": [
    "import matplotlib.pyplot as plt \n",
    "\n",
    "plt.imshow(cam_map)"
   ]
  },
  {
   "cell_type": "code",
   "execution_count": 1,
   "metadata": {},
   "outputs": [
    {
     "ename": "NameError",
     "evalue": "name 'viz' is not defined",
     "output_type": "error",
     "traceback": [
      "\u001b[0;31m---------------------------------------------------------------------------\u001b[0m",
      "\u001b[0;31mNameError\u001b[0m                                 Traceback (most recent call last)",
      "Input \u001b[0;32mIn [1]\u001b[0m, in \u001b[0;36m<cell line: 2>\u001b[0;34m()\u001b[0m\n\u001b[1;32m      1\u001b[0m \u001b[38;5;66;03m# use captum visual method\u001b[39;00m\n\u001b[0;32m----> 2\u001b[0m figure, axis \u001b[38;5;241m=\u001b[39m \u001b[43mviz\u001b[49m\u001b[38;5;241m.\u001b[39mvisualize_image_attr_multiple(\n\u001b[1;32m      3\u001b[0m         cam_map,\n\u001b[1;32m      4\u001b[0m         inp_tensor,\n\u001b[1;32m      5\u001b[0m         methods\u001b[38;5;241m=\u001b[39m[\u001b[38;5;124m'\u001b[39m\u001b[38;5;124moriginal_image\u001b[39m\u001b[38;5;124m'\u001b[39m, \u001b[38;5;124m'\u001b[39m\u001b[38;5;124mblended_heat_map\u001b[39m\u001b[38;5;124m'\u001b[39m],\n\u001b[1;32m      6\u001b[0m         signs\u001b[38;5;241m=\u001b[39m[\u001b[38;5;124m'\u001b[39m\u001b[38;5;124mall\u001b[39m\u001b[38;5;124m'\u001b[39m, \u001b[38;5;124m'\u001b[39m\u001b[38;5;124mpositive\u001b[39m\u001b[38;5;124m'\u001b[39m],\n\u001b[1;32m      7\u001b[0m         show_colorbar\u001b[38;5;241m=\u001b[39m\u001b[38;5;28;01mTrue\u001b[39;00m,\n\u001b[1;32m      8\u001b[0m         outlier_perc\u001b[38;5;241m=\u001b[39m\u001b[38;5;241m1\u001b[39m, \n\u001b[1;32m      9\u001b[0m         cmap\u001b[38;5;241m=\u001b[39m\u001b[38;5;124m'\u001b[39m\u001b[38;5;124mjet\u001b[39m\u001b[38;5;124m'\u001b[39m,\n\u001b[1;32m     10\u001b[0m         titles \u001b[38;5;241m=\u001b[39m [\u001b[38;5;124m'\u001b[39m\u001b[38;5;124moriginal image\u001b[39m\u001b[38;5;124m'\u001b[39m, \u001b[38;5;124m'\u001b[39m\u001b[38;5;124mGradCAM++, true label \u001b[39m\u001b[38;5;132;01m%s\u001b[39;00m\u001b[38;5;124m, pred label \u001b[39m\u001b[38;5;132;01m%s\u001b[39;00m\u001b[38;5;124m'\u001b[39m \u001b[38;5;241m%\u001b[39m (\u001b[38;5;28mint\u001b[39m(inp_label), \u001b[38;5;28mint\u001b[39m(out_label))]\n\u001b[1;32m     11\u001b[0m     )\n",
      "\u001b[0;31mNameError\u001b[0m: name 'viz' is not defined"
     ]
    }
   ],
   "source": [
    "# use captum visual method\n",
    "figure, axis = viz.visualize_image_attr_multiple(\n",
    "        cam_map,\n",
    "        inp_tensor,\n",
    "        methods=['original_image', 'blended_heat_map'],\n",
    "        signs=['all', 'positive'],\n",
    "        show_colorbar=True,\n",
    "        outlier_perc=1, \n",
    "        cmap='jet',\n",
    "        titles = ['original image', 'GradCAM++, true label %s, pred label %s' % (int(inp_label), int(out_label))]\n",
    "    )"
   ]
  },
  {
   "cell_type": "code",
   "execution_count": 39,
   "metadata": {},
   "outputs": [
    {
     "data": {
      "text/plain": [
       "torch.Size([1, 3, 8, 224, 224])"
      ]
     },
     "execution_count": 39,
     "metadata": {},
     "output_type": "execute_result"
    }
   ],
   "source": [
    "input_tensor.shape"
   ]
  },
  {
   "cell_type": "code",
   "execution_count": 40,
   "metadata": {},
   "outputs": [],
   "source": [
    "from torchvision.io import write_video\n",
    "\n",
    "write_video('1s.mp4', video_array=input_tensor.squeeze().permute(1,2,3,0).detach().cpu(), fps=10)"
   ]
  },
  {
   "cell_type": "code",
   "execution_count": 41,
   "metadata": {},
   "outputs": [
    {
     "data": {
      "text/plain": [
       "'20171211_full_lat_49.mp4'"
      ]
     },
     "execution_count": 41,
     "metadata": {},
     "output_type": "execute_result"
    }
   ],
   "source": [
    "batch['video_name'][0]"
   ]
  }
 ],
 "metadata": {
  "kernelspec": {
   "display_name": "Python 3",
   "language": "python",
   "name": "python3"
  },
  "language_info": {
   "codemirror_mode": {
    "name": "ipython",
    "version": 3
   },
   "file_extension": ".py",
   "mimetype": "text/x-python",
   "name": "python",
   "nbconvert_exporter": "python",
   "pygments_lexer": "ipython3",
   "version": "3.9.13"
  },
  "orig_nbformat": 4
 },
 "nbformat": 4,
 "nbformat_minor": 2
}
